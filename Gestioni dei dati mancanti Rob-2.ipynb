{
 "cells": [
  {
   "cell_type": "markdown",
   "id": "a2ab6bfa",
   "metadata": {},
   "source": [
    " INDICE\n",
    " IMPORT DATI\n",
    "\n",
    "\n",
    "1.1 Manipolazione e Visualizzazione di Dati Mancanti in un DataFrame con Pandas.\n",
    "\n",
    "1.2 Analisi e Visualizzazione Dati con Pandas, NumPy e Matplotlib.\n",
    "\n",
    "1.3 Generazione di un DataFrame Casuale con Dati Mancanti e Imputazione Condizionale in Pandas.\n",
    "\n",
    "1.4 Calcolo della Percentuale di Dati Mancanti per ciascuna Colonna nel DataFrame.\n",
    "\n",
    "\n",
    " GESTIONI DATI MANCANTI\n",
    "\n",
    "\n",
    "2.1 Creazione di un DataFrame con Dati Mancanti in Pandas.\n",
    "\n",
    "2.2 Identificazione delle Righe con Dati Mancanti nel DataFrame.\n",
    "\n",
    "2.3 Conteggio delle Righe con Dati Mancanti nel DataFrame.\n",
    "\n",
    "2.4 Creazione di un DataFrame con Dati Mancanti da un Dataset in Python utilizzando Pandas.\n",
    "\n",
    "2.5 Creazione di un Nuovo DataFrame Senza Righe con Dati Mancanti.\n",
    "\n",
    "2.6 Rimozione Permanente delle Righe con Dati Mancanti dal DataFrame.\n",
    "\n",
    "2.7 Visualizzazione delle Mancate Osservazioni con un Heatmap.\n",
    "\n",
    "2.8 Creazione di un Nuovo DataFrame con Riempiimento di Valori Mancanti nelle Colonne Categoriche.\n",
    "\n",
    "2.9 Creazione di un DataFrame con Dati Numerici e Valori Mancanti Utilizzando Pandas.\n",
    "\n",
    "2.10 Verifica della Presenza di Valori Mancanti nel DataFrame utilizzando df.isnull().\n",
    "\n",
    "2.11 Calcolo del Numero di Valori Mancanti per Colonna e Lunghezza Totale del DataFrame.\n",
    "\n",
    "2.12 Calcolo della Percentuale di Valori Mancanti per Colonna nel DataFrame.\n",
    "\n",
    "2.13 Funzione per la Gestione dei Valori Mancanti in un DataFrame utilizzando Pandas.\n",
    "\n",
    "2.14 Identificazione dei Valori Mancanti in un DataFrame utilizzando la Funzione check_missing_values.\n",
    "\n",
    "2.15 Creazione di una Matrice di Valori Mancanti nel DataFrame utilizzando Pandas.\n",
    "\n",
    "2.16 Generazione di Dati Casuali per l'Esplorazione con Pandas e NumPy.\n",
    "\n",
    "2.17 Identificazione e Conteggio dei Valori Mancanti in Ciascuna Colonna del DataFrame."
   ]
  },
  {
   "cell_type": "markdown",
   "id": "5b826797",
   "metadata": {},
   "source": [
    "# IMPORT DATI"
   ]
  },
  {
   "cell_type": "markdown",
   "id": "0163ae4e",
   "metadata": {},
   "source": [
    "## Manipolazione e Visualizzazione di Dati Mancanti in un DataFrame con Pandas"
   ]
  },
  {
   "cell_type": "markdown",
   "id": "4463ff70",
   "metadata": {},
   "source": [
    "Questo codice utilizza Pandas per creare un DataFrame da un dataset con dati mancanti. I dati mancanti sono rappresentati come `None` o `NaN`. Viene poi sostituito `None` con `NaN` e infine il DataFrame viene stampato."
   ]
  },
  {
   "cell_type": "code",
   "execution_count": 5,
   "id": "7f25409c",
   "metadata": {},
   "outputs": [
    {
     "name": "stdout",
     "output_type": "stream",
     "text": [
      "    età  punteggio  ammesso\n",
      "0  25.0       90.0      1.0\n",
      "1   NaN       85.0      0.0\n",
      "2  28.0        NaN      1.0\n",
      "3   NaN       75.0      1.0\n",
      "4  23.0        NaN      NaN\n",
      "5  23.0       77.0      NaN\n"
     ]
    }
   ],
   "source": [
    "import pandas as pd\n",
    "\n",
    "# Dataset con dati mancanti rappresentati da None o NaN\n",
    "dataset = [\n",
    "    {\"età\": 25, \"punteggio\": 90, \"ammesso\": 1},\n",
    "    {\"età\": None, \"punteggio\": 85, \"ammesso\": 0},\n",
    "    {\"età\": 28, \"punteggio\": None, \"ammesso\": 1},\n",
    "    {\"età\": None, \"punteggio\": 75, \"ammesso\": 1},\n",
    "    {\"età\": 23, \"punteggio\": None, \"ammesso\": None},  # None: nessuno dato mancante\n",
    "    {\"età\": 23, \"punteggio\": 77, \"ammesso\": None},\n",
    "]\n",
    "\n",
    "# Creazione del DataFrame\n",
    "df = pd.DataFrame(dataset)\n",
    "\n",
    "# Sostituisci i valori None con NaN\n",
    "df = df.where(pd.notna(df), None)\n",
    "\n",
    "# Visualizza il DataFrame\n",
    "print(df)"
   ]
  },
  {
   "cell_type": "markdown",
   "id": "fa8e470d",
   "metadata": {},
   "source": [
    "## Analisi e Visualizzazione Dati con Pandas, NumPy e Matplotlib"
   ]
  },
  {
   "cell_type": "markdown",
   "id": "69e75d3f",
   "metadata": {},
   "source": [
    "Questo codice utilizza Pandas per leggere un file CSV contenente dati sui Pokémon. Il percorso del file CSV è specificato nella variabile `percorso_file_csv`. Successivamente, il contenuto del file viene letto in un DataFrame utilizzando `pd.read_csv()`, e infine, le prime righe del DataFrame vengono stampate con `print(df.head())`."
   ]
  },
  {
   "cell_type": "code",
   "execution_count": 10,
   "id": "53ed4710",
   "metadata": {
    "scrolled": true
   },
   "outputs": [
    {
     "name": "stdout",
     "output_type": "stream",
     "text": [
      "   #                   Name Type 1  Type 2  Total  HP  Attack  Defense  \\\n",
      "0  1              Bulbasaur  Grass  Poison    318  45      49       49   \n",
      "1  2                Ivysaur  Grass  Poison    405  60      62       63   \n",
      "2  3               Venusaur  Grass  Poison    525  80      82       83   \n",
      "3  3  VenusaurMega Venusaur  Grass  Poison    625  80     100      123   \n",
      "4  4             Charmander   Fire     NaN    309  39      52       43   \n",
      "\n",
      "   Sp. Atk  Sp. Def  Speed  Generation  Legendary  \n",
      "0       65       65     45           1      False  \n",
      "1       80       80     60           1      False  \n",
      "2      100      100     80           1      False  \n",
      "3      122      120     80           1      False  \n",
      "4       60       50     65           1      False  \n"
     ]
    }
   ],
   "source": [
    "import pandas as pd\n",
    "import numpy as np\n",
    "import matplotlib.pyplot as plt\n",
    "\n",
    "# Specifica il percorso del tuo file CSV\n",
    "percorso_file_csv = \"/Users/ayoubchatir/Desktop/Pokemon.csv\"\n",
    "\n",
    "# Leggi il file CSV in un DataFrame\n",
    "df = pd.read_csv(percorso_file_csv)\n",
    "\n",
    "# Mostra le prime righe del DataFrame (opzionale)\n",
    "print(df.head())"
   ]
  },
  {
   "cell_type": "markdown",
   "id": "c3aaf888",
   "metadata": {},
   "source": [
    "## Generazione di un DataFrame Casuale con Dati Mancanti e Imputazione Condizionale in Pandas"
   ]
  },
  {
   "cell_type": "markdown",
   "id": "7305a3e9",
   "metadata": {},
   "source": [
    "Il codice utilizza le librerie `Pandas` e `NumPy` per creare un DataFrame casuale con dati mancanti. Vengono generate colonne categoriche e numeriche, e vengono introdotti casualmente valori mancanti. Successivamente, vengono gestiti i dati mancanti nelle colonne categoriche sostituendo con la moda e nelle colonne numeriche calcolando medie condizionate basate su una categoria specifica. Infine, il DataFrame risultante viene stampato."
   ]
  },
  {
   "cell_type": "code",
   "execution_count": 11,
   "id": "c15f0c7c",
   "metadata": {},
   "outputs": [
    {
     "data": {
      "text/html": [
       "<div>\n",
       "<style scoped>\n",
       "    .dataframe tbody tr th:only-of-type {\n",
       "        vertical-align: middle;\n",
       "    }\n",
       "\n",
       "    .dataframe tbody tr th {\n",
       "        vertical-align: top;\n",
       "    }\n",
       "\n",
       "    .dataframe thead th {\n",
       "        text-align: right;\n",
       "    }\n",
       "</style>\n",
       "<table border=\"1\" class=\"dataframe\">\n",
       "  <thead>\n",
       "    <tr style=\"text-align: right;\">\n",
       "      <th></th>\n",
       "      <th>CatCol1</th>\n",
       "      <th>CatCol2</th>\n",
       "      <th>NumCol1</th>\n",
       "      <th>NumCol2</th>\n",
       "      <th>NumCol3</th>\n",
       "    </tr>\n",
       "  </thead>\n",
       "  <tbody>\n",
       "    <tr>\n",
       "      <th>0</th>\n",
       "      <td>A</td>\n",
       "      <td>Y</td>\n",
       "      <td>-0.391604</td>\n",
       "      <td>98.0</td>\n",
       "      <td>0.409815</td>\n",
       "    </tr>\n",
       "    <tr>\n",
       "      <th>1</th>\n",
       "      <td>A</td>\n",
       "      <td>X</td>\n",
       "      <td>0.000551</td>\n",
       "      <td>19.0</td>\n",
       "      <td>0.886592</td>\n",
       "    </tr>\n",
       "    <tr>\n",
       "      <th>2</th>\n",
       "      <td>C</td>\n",
       "      <td>Y</td>\n",
       "      <td>1.266001</td>\n",
       "      <td>52.0</td>\n",
       "      <td>0.848556</td>\n",
       "    </tr>\n",
       "    <tr>\n",
       "      <th>3</th>\n",
       "      <td>A</td>\n",
       "      <td>X</td>\n",
       "      <td>0.449617</td>\n",
       "      <td>70.0</td>\n",
       "      <td>0.546525</td>\n",
       "    </tr>\n",
       "    <tr>\n",
       "      <th>4</th>\n",
       "      <td>B</td>\n",
       "      <td>X</td>\n",
       "      <td>0.742505</td>\n",
       "      <td>72.0</td>\n",
       "      <td>0.467257</td>\n",
       "    </tr>\n",
       "    <tr>\n",
       "      <th>...</th>\n",
       "      <td>...</td>\n",
       "      <td>...</td>\n",
       "      <td>...</td>\n",
       "      <td>...</td>\n",
       "      <td>...</td>\n",
       "    </tr>\n",
       "    <tr>\n",
       "      <th>9999995</th>\n",
       "      <td>A</td>\n",
       "      <td>Y</td>\n",
       "      <td>0.464663</td>\n",
       "      <td>7.0</td>\n",
       "      <td>0.992815</td>\n",
       "    </tr>\n",
       "    <tr>\n",
       "      <th>9999996</th>\n",
       "      <td>A</td>\n",
       "      <td>X</td>\n",
       "      <td>0.149775</td>\n",
       "      <td>13.0</td>\n",
       "      <td>0.731368</td>\n",
       "    </tr>\n",
       "    <tr>\n",
       "      <th>9999997</th>\n",
       "      <td>C</td>\n",
       "      <td>Y</td>\n",
       "      <td>-0.608376</td>\n",
       "      <td>1.0</td>\n",
       "      <td>0.606349</td>\n",
       "    </tr>\n",
       "    <tr>\n",
       "      <th>9999998</th>\n",
       "      <td>C</td>\n",
       "      <td>Y</td>\n",
       "      <td>0.000101</td>\n",
       "      <td>69.0</td>\n",
       "      <td>0.115812</td>\n",
       "    </tr>\n",
       "    <tr>\n",
       "      <th>9999999</th>\n",
       "      <td>B</td>\n",
       "      <td>Y</td>\n",
       "      <td>1.666715</td>\n",
       "      <td>76.0</td>\n",
       "      <td>0.245699</td>\n",
       "    </tr>\n",
       "  </tbody>\n",
       "</table>\n",
       "<p>9635330 rows × 5 columns</p>\n",
       "</div>"
      ],
      "text/plain": [
       "        CatCol1 CatCol2   NumCol1  NumCol2   NumCol3\n",
       "0             A       Y -0.391604     98.0  0.409815\n",
       "1             A       X  0.000551     19.0  0.886592\n",
       "2             C       Y  1.266001     52.0  0.848556\n",
       "3             A       X  0.449617     70.0  0.546525\n",
       "4             B       X  0.742505     72.0  0.467257\n",
       "...         ...     ...       ...      ...       ...\n",
       "9999995       A       Y  0.464663      7.0  0.992815\n",
       "9999996       A       X  0.149775     13.0  0.731368\n",
       "9999997       C       Y -0.608376      1.0  0.606349\n",
       "9999998       C       Y  0.000101     69.0  0.115812\n",
       "9999999       B       Y  1.666715     76.0  0.245699\n",
       "\n",
       "[9635330 rows x 5 columns]"
      ]
     },
     "execution_count": 11,
     "metadata": {},
     "output_type": "execute_result"
    }
   ],
   "source": [
    "import pandas as pd\n",
    "import numpy as np\n",
    "\n",
    "# Impostare il seed per rendere i risultati riproducibili\n",
    "np.random.seed(41)\n",
    "\n",
    "# Creare un dataframe vuoto\n",
    "df = pd.DataFrame()\n",
    "\n",
    "# Generare dati casuali\n",
    "n_rows = 10000000\n",
    "df['CatCol1'] = np.random.choice(['A', 'B', 'C'], size=n_rows)\n",
    "df['CatCol2'] = np.random.choice(['X', 'Y'], size=n_rows)\n",
    "df['NumCol1'] = np.random.randn(n_rows)\n",
    "df['NumCol2'] = np.random.randint(1, 100, size=n_rows)\n",
    "df['NumCol3'] = np.random.uniform(0, 1, size=n_rows)\n",
    "\n",
    "# Calcolare il numero totale di missing values desiderati\n",
    "total_missing_values = int(0.05 * n_rows * len(df.columns))\n",
    "\n",
    "# Introdurre missing values casuali\n",
    "for column in df.columns:\n",
    "    num_missing_values = np.random.randint(0, total_missing_values + 1)\n",
    "    missing_indices = np.random.choice(n_rows, size=num_missing_values, replace=False)\n",
    "    df.loc[missing_indices, column] = np.nan\n",
    "\n",
    "# Elimina le righe in cui entrambe le features categoriche hanno valori NaN\n",
    "df = df.dropna(subset=[\"CatCol1\", 'CatCol2'], how='all')\n",
    "df = df.dropna(subset=[\"NumCol1\", 'NumCol2','NumCol3'], how='all')\n",
    "\n",
    "\n",
    "numeric_cols = df.select_dtypes(include=['number'])\n",
    "categorical_cols = df.select_dtypes(exclude=['number'])\n",
    "\n",
    "# Sostituisci i missing values nelle colonne categoriche con la moda utilizzando .loc\n",
    "df.loc[:, categorical_cols.columns] = df[categorical_cols.columns].fillna(df[categorical_cols.columns].mode().iloc[0])\n",
    "\n",
    "# Calcola la media condizionata solo per le colonne numeriche con dati mancanti\n",
    "conditional_means = df[numeric_cols.columns].fillna(df.groupby('CatCol1')[numeric_cols.columns].transform('mean'))\n",
    "\n",
    "# Aggiorna le colonne numeriche con la media condizionata utilizzando .loc\n",
    "import pandas as pd\n",
    "import numpy as np\n",
    "\n",
    "# Impostare il seed per rendere i risultati riproducibili\n",
    "np.random.seed(41)\n",
    "\n",
    "# Creare un dataframe vuoto\n",
    "df = pd.DataFrame()\n",
    "\n",
    "# Generare dati casuali\n",
    "n_rows = 10000000\n",
    "df['CatCol1'] = np.random.choice(['A', 'B', 'C'], size=n_rows)\n",
    "df['CatCol2'] = np.random.choice(['X', 'Y'], size=n_rows)\n",
    "df['NumCol1'] = np.random.randn(n_rows)\n",
    "df['NumCol2'] = np.random.randint(1, 100, size=n_rows)\n",
    "df['NumCol3'] = np.random.uniform(0, 1, size=n_rows)\n",
    "\n",
    "# Calcolare il numero totale di missing values desiderati\n",
    "total_missing_values = int(0.05 * n_rows * len(df.columns))\n",
    "\n",
    "# Introdurre missing values casuali\n",
    "for column in df.columns:\n",
    "    num_missing_values = np.random.randint(0, total_missing_values + 1)\n",
    "    missing_indices = np.random.choice(n_rows, size=num_missing_values, replace=False)\n",
    "    df.loc[missing_indices, column] = np.nan\n",
    "\n",
    "# Elimina le righe in cui entrambe le features categoriche hanno valori NaN\n",
    "df = df.dropna(subset=[\"CatCol1\", 'CatCol2'], how='all')\n",
    "df = df.dropna(subset=[\"NumCol1\", 'NumCol2','NumCol3'], how='all')\n",
    "\n",
    "\n",
    "numeric_cols = df.select_dtypes(include=['number'])\n",
    "categorical_cols = df.select_dtypes(exclude=['number'])\n",
    "\n",
    "# Sostituisci i missing values nelle colonne categoriche con la moda utilizzando .loc\n",
    "df.loc[:, categorical_cols.columns] = df[categorical_cols.columns].fillna(df[categorical_cols.columns].mode().iloc[0])\n",
    "\n",
    "# Calcola la media condizionata solo per le colonne numeriche con dati mancanti\n",
    "conditional_means = df[numeric_cols.columns].fillna(df.groupby('CatCol1')[numeric_cols.columns].transform('mean'))\n",
    "\n",
    "# Aggiorna le colonne numeriche con la media condizionata utilizzando .loc\n",
    "df.loc[:, numeric_cols.columns] = conditional_means\n",
    "\n",
    "# Stampa il DataFrame risultante\n",
    "df\n",
    "df.loc[:, numeric_cols.columns] = conditional_means\n",
    "\n",
    "# Stampa il DataFrame risultante\n",
    "df"
   ]
  },
  {
   "cell_type": "markdown",
   "id": "e49be800",
   "metadata": {},
   "source": [
    "## Calcolo della Percentuale di Dati Mancanti per ciascuna Colonna nel DataFrame"
   ]
  },
  {
   "cell_type": "markdown",
   "id": "f2528c13",
   "metadata": {},
   "source": [
    "Questo codice calcola la percentuale di valori mancanti per ciascuna colonna nel DataFrame `df`. `df.isnull().sum()` restituisce il numero totale di valori mancanti per ciascuna colonna, e `(len(df))` restituisce il numero totale di righe nel DataFrame. Quindi, `(df.isnull().sum() / len(df)) * 100` calcola la percentuale di valori mancanti per ogni colonna moltiplicando il rapporto di valori mancanti per il numero totale di righe per 100. Il risultato viene assegnato alla variabile `missing_percent`. Questo può essere utile per valutare quanto siano presenti valori mancanti nelle diverse colonne del DataFrame."
   ]
  },
  {
   "cell_type": "code",
   "execution_count": 12,
   "id": "00dd87a7",
   "metadata": {
    "scrolled": true
   },
   "outputs": [
    {
     "data": {
      "text/plain": [
       "CatCol1    0.0\n",
       "CatCol2    0.0\n",
       "NumCol1    0.0\n",
       "NumCol2    0.0\n",
       "NumCol3    0.0\n",
       "dtype: float64"
      ]
     },
     "execution_count": 12,
     "metadata": {},
     "output_type": "execute_result"
    }
   ],
   "source": [
    "missing_percent = (df.isnull().sum() / len(df)) * 100\n",
    "missing_percent "
   ]
  },
  {
   "cell_type": "markdown",
   "id": "7481b925",
   "metadata": {},
   "source": [
    "# GESTIONI DATI MANCANTI"
   ]
  },
  {
   "cell_type": "markdown",
   "id": "43d8d24a",
   "metadata": {},
   "source": [
    "## Creazione di un DataFrame con Dati Mancanti in Pandas"
   ]
  },
  {
   "cell_type": "markdown",
   "id": "e3c2fec5",
   "metadata": {},
   "source": [
    "Questo codice utilizza la libreria Pandas per creare un DataFrame da un insieme di dati rappresentati in formato di dizionario. Il DataFrame è una struttura tabellare simile a un foglio di calcolo. I dati in questo caso contengono informazioni sull'età, il punteggio e l'ammissione di alcuni individui, ma presentano valori mancanti rappresentati sia come `None` che come `NaN`. Il DataFrame è una rappresentazione tabellare di questi dati, con le colonne \"età\", \"punteggio\" e \"ammesso\". Questo può essere utile per analizzare e gestire dati con valori mancanti."
   ]
  },
  {
   "cell_type": "code",
   "execution_count": 8,
   "id": "3233e468",
   "metadata": {},
   "outputs": [
    {
     "data": {
      "text/html": [
       "<div>\n",
       "<style scoped>\n",
       "    .dataframe tbody tr th:only-of-type {\n",
       "        vertical-align: middle;\n",
       "    }\n",
       "\n",
       "    .dataframe tbody tr th {\n",
       "        vertical-align: top;\n",
       "    }\n",
       "\n",
       "    .dataframe thead th {\n",
       "        text-align: right;\n",
       "    }\n",
       "</style>\n",
       "<table border=\"1\" class=\"dataframe\">\n",
       "  <thead>\n",
       "    <tr style=\"text-align: right;\">\n",
       "      <th></th>\n",
       "      <th>età</th>\n",
       "      <th>punteggio</th>\n",
       "      <th>ammesso</th>\n",
       "    </tr>\n",
       "  </thead>\n",
       "  <tbody>\n",
       "    <tr>\n",
       "      <th>0</th>\n",
       "      <td>25.0</td>\n",
       "      <td>90.0</td>\n",
       "      <td>1.0</td>\n",
       "    </tr>\n",
       "    <tr>\n",
       "      <th>1</th>\n",
       "      <td>NaN</td>\n",
       "      <td>85.0</td>\n",
       "      <td>0.0</td>\n",
       "    </tr>\n",
       "    <tr>\n",
       "      <th>2</th>\n",
       "      <td>28.0</td>\n",
       "      <td>NaN</td>\n",
       "      <td>1.0</td>\n",
       "    </tr>\n",
       "    <tr>\n",
       "      <th>3</th>\n",
       "      <td>NaN</td>\n",
       "      <td>75.0</td>\n",
       "      <td>1.0</td>\n",
       "    </tr>\n",
       "    <tr>\n",
       "      <th>4</th>\n",
       "      <td>23.0</td>\n",
       "      <td>NaN</td>\n",
       "      <td>NaN</td>\n",
       "    </tr>\n",
       "    <tr>\n",
       "      <th>5</th>\n",
       "      <td>23.0</td>\n",
       "      <td>77.0</td>\n",
       "      <td>NaN</td>\n",
       "    </tr>\n",
       "  </tbody>\n",
       "</table>\n",
       "</div>"
      ],
      "text/plain": [
       "    età  punteggio  ammesso\n",
       "0  25.0       90.0      1.0\n",
       "1   NaN       85.0      0.0\n",
       "2  28.0        NaN      1.0\n",
       "3   NaN       75.0      1.0\n",
       "4  23.0        NaN      NaN\n",
       "5  23.0       77.0      NaN"
      ]
     },
     "execution_count": 8,
     "metadata": {},
     "output_type": "execute_result"
    }
   ],
   "source": [
    "import pandas as pd\n",
    "\n",
    "# Dataset con dati mancanti rappresentati da None o NaN\n",
    "dataset = [\n",
    "    {\"età\": 25, \"punteggio\": 90, \"ammesso\": 1},\n",
    "    {\"età\": None, \"punteggio\": 85, \"ammesso\": 0},\n",
    "    {\"età\": 28, \"punteggio\": None, \"ammesso\": 1},\n",
    "    {\"età\": None, \"punteggio\": 75, \"ammesso\": 1},\n",
    "    {\"età\": 23, \"punteggio\": None, \"ammesso\": None},\n",
    "    {\"età\": 23, \"punteggio\": 77, \"ammesso\": None},\n",
    "]\n",
    "df = pd.DataFrame(dataset)\n",
    "df"
   ]
  },
  {
   "cell_type": "code",
   "execution_count": null,
   "id": "641f40bd",
   "metadata": {},
   "outputs": [],
   "source": [
    "df[\"punteggio\"]"
   ]
  },
  {
   "cell_type": "markdown",
   "id": "ff75468e",
   "metadata": {},
   "source": [
    "## Identificazione delle Righe con Dati Mancanti nel DataFrame"
   ]
  },
  {
   "cell_type": "markdown",
   "id": "79e2891c",
   "metadata": {},
   "source": [
    "Questo codice utilizza Pandas per identificare e selezionare le righe del DataFrame `df` che contengono almeno un dato mancante. La variabile `righe_con_dati_mancanti` conterrà solo le righe che soddisfano questa condizione. In altre parole, stai ottenendo un sottoinsieme del DataFrame originale che include solo le righe con valori mancanti in almeno una colonna. Questo può essere utile per ispezionare o manipolare specificamente le righe con dati mancanti nel tuo set di dati."
   ]
  },
  {
   "cell_type": "code",
   "execution_count": 6,
   "id": "f8b2c47b",
   "metadata": {
    "scrolled": true
   },
   "outputs": [
    {
     "data": {
      "text/html": [
       "<div>\n",
       "<style scoped>\n",
       "    .dataframe tbody tr th:only-of-type {\n",
       "        vertical-align: middle;\n",
       "    }\n",
       "\n",
       "    .dataframe tbody tr th {\n",
       "        vertical-align: top;\n",
       "    }\n",
       "\n",
       "    .dataframe thead th {\n",
       "        text-align: right;\n",
       "    }\n",
       "</style>\n",
       "<table border=\"1\" class=\"dataframe\">\n",
       "  <thead>\n",
       "    <tr style=\"text-align: right;\">\n",
       "      <th></th>\n",
       "      <th>età</th>\n",
       "      <th>punteggio</th>\n",
       "      <th>ammesso</th>\n",
       "    </tr>\n",
       "  </thead>\n",
       "  <tbody>\n",
       "    <tr>\n",
       "      <th>1</th>\n",
       "      <td>NaN</td>\n",
       "      <td>85.0</td>\n",
       "      <td>0.0</td>\n",
       "    </tr>\n",
       "    <tr>\n",
       "      <th>2</th>\n",
       "      <td>28.0</td>\n",
       "      <td>NaN</td>\n",
       "      <td>1.0</td>\n",
       "    </tr>\n",
       "    <tr>\n",
       "      <th>3</th>\n",
       "      <td>NaN</td>\n",
       "      <td>75.0</td>\n",
       "      <td>1.0</td>\n",
       "    </tr>\n",
       "    <tr>\n",
       "      <th>4</th>\n",
       "      <td>23.0</td>\n",
       "      <td>NaN</td>\n",
       "      <td>NaN</td>\n",
       "    </tr>\n",
       "    <tr>\n",
       "      <th>5</th>\n",
       "      <td>23.0</td>\n",
       "      <td>77.0</td>\n",
       "      <td>NaN</td>\n",
       "    </tr>\n",
       "  </tbody>\n",
       "</table>\n",
       "</div>"
      ],
      "text/plain": [
       "    età  punteggio  ammesso\n",
       "1   NaN       85.0      0.0\n",
       "2  28.0        NaN      1.0\n",
       "3   NaN       75.0      1.0\n",
       "4  23.0        NaN      NaN\n",
       "5  23.0       77.0      NaN"
      ]
     },
     "execution_count": 6,
     "metadata": {},
     "output_type": "execute_result"
    }
   ],
   "source": [
    "righe_con_dati_mancanti =df[df.isnull().any(axis=1)]\n",
    "righe_con_dati_mancanti"
   ]
  },
  {
   "cell_type": "markdown",
   "id": "be68a09f",
   "metadata": {},
   "source": [
    "## Conteggio delle Righe con Dati Mancanti nel DataFrame"
   ]
  },
  {
   "cell_type": "markdown",
   "id": "2a28a473",
   "metadata": {},
   "source": [
    "Questo codice calcola il numero totale di righe nel DataFrame `righe_con_dati_mancanti` utilizzando l'attributo `shape` e selezionando la dimensione delle righe (indice 0). Quindi, la variabile `righe_con_dati_mancanti` conterrà il conteggio totale delle righe che presentano almeno un dato mancante nel DataFrame originale `df`."
   ]
  },
  {
   "cell_type": "code",
   "execution_count": 7,
   "id": "e65c6bfc",
   "metadata": {},
   "outputs": [
    {
     "data": {
      "text/plain": [
       "5"
      ]
     },
     "execution_count": 7,
     "metadata": {},
     "output_type": "execute_result"
    }
   ],
   "source": [
    "righe_con_dati_mancanti =righe_con_dati_mancanti.shape[0]\n",
    "righe_con_dati_mancanti"
   ]
  },
  {
   "cell_type": "markdown",
   "id": "ced90cfb",
   "metadata": {},
   "source": [
    "## Creazione di un DataFrame con Dati Mancanti da un Dataset in Python utilizzando Pandas"
   ]
  },
  {
   "cell_type": "markdown",
   "id": "afa0ec5a",
   "metadata": {},
   "source": [
    "Questo codice crea un DataFrame `df` utilizzando il modulo pandas. Il DataFrame è costruito a partire da un elenco di dizionari `dataset`, dove ciascun dizionario rappresenta una riga del DataFrame. Ogni dizionario contiene informazioni su \"nome\", \"età\", \"punteggio\" ed \"email\". Se un valore è mancante, viene rappresentato come `None`. Il DataFrame finale è quindi stampato."
   ]
  },
  {
   "cell_type": "code",
   "execution_count": 19,
   "id": "38255d88",
   "metadata": {},
   "outputs": [
    {
     "data": {
      "text/html": [
       "<div>\n",
       "<style scoped>\n",
       "    .dataframe tbody tr th:only-of-type {\n",
       "        vertical-align: middle;\n",
       "    }\n",
       "\n",
       "    .dataframe tbody tr th {\n",
       "        vertical-align: top;\n",
       "    }\n",
       "\n",
       "    .dataframe thead th {\n",
       "        text-align: right;\n",
       "    }\n",
       "</style>\n",
       "<table border=\"1\" class=\"dataframe\">\n",
       "  <thead>\n",
       "    <tr style=\"text-align: right;\">\n",
       "      <th></th>\n",
       "      <th>nome</th>\n",
       "      <th>età</th>\n",
       "      <th>punteggio</th>\n",
       "      <th>email</th>\n",
       "    </tr>\n",
       "  </thead>\n",
       "  <tbody>\n",
       "    <tr>\n",
       "      <th>0</th>\n",
       "      <td>Alice</td>\n",
       "      <td>25</td>\n",
       "      <td>90.0</td>\n",
       "      <td>alice@email.com</td>\n",
       "    </tr>\n",
       "    <tr>\n",
       "      <th>1</th>\n",
       "      <td>Bob</td>\n",
       "      <td>22</td>\n",
       "      <td>NaN</td>\n",
       "      <td>None</td>\n",
       "    </tr>\n",
       "    <tr>\n",
       "      <th>2</th>\n",
       "      <td>Charlie</td>\n",
       "      <td>28</td>\n",
       "      <td>75.0</td>\n",
       "      <td>charlie@email.com</td>\n",
       "    </tr>\n",
       "  </tbody>\n",
       "</table>\n",
       "</div>"
      ],
      "text/plain": [
       "      nome  età  punteggio              email\n",
       "0    Alice   25       90.0    alice@email.com\n",
       "1      Bob   22        NaN               None\n",
       "2  Charlie   28       75.0  charlie@email.com"
      ]
     },
     "execution_count": 19,
     "metadata": {},
     "output_type": "execute_result"
    }
   ],
   "source": [
    "import pandas as pd\n",
    "\n",
    "# Dataset con dati mancanti rappresentati da None o NaN\n",
    "dataset = [\n",
    "    {\"nome\": \"Alice\", \"età\": 25, \"punteggio\": 90, \"email\": \"alice@email.com\"},\n",
    "    {\"nome\": \"Bob\", \"età\": 22, \"punteggio\": None, \"email\": None},\n",
    "    {\"nome\": \"Charlie\", \"età\": 28, \"punteggio\": 75, \"email\": \"charlie@email.com\"},\n",
    "]\n",
    "\n",
    "# Converti il dataset in un DataFrame\n",
    "df = pd.DataFrame(dataset)\n",
    "df"
   ]
  },
  {
   "cell_type": "markdown",
   "id": "ce273121",
   "metadata": {},
   "source": [
    "## Creazione di un Nuovo DataFrame Senza Righe con Dati Mancanti"
   ]
  },
  {
   "cell_type": "markdown",
   "id": "bfd1398b",
   "metadata": {},
   "source": [
    "Questo codice utilizza il metodo `dropna` del DataFrame per rimuovere tutte le righe che contengono almeno un valore mancante. Il parametro `inplace=False` indica che la modifica non deve essere effettuata direttamente sul DataFrame originale, ma piuttosto restituisce un nuovo DataFrame (`df1`) con le righe contenenti dati mancanti rimosse."
   ]
  },
  {
   "cell_type": "code",
   "execution_count": 20,
   "id": "bc82ce3a",
   "metadata": {
    "scrolled": true
   },
   "outputs": [
    {
     "data": {
      "text/html": [
       "<div>\n",
       "<style scoped>\n",
       "    .dataframe tbody tr th:only-of-type {\n",
       "        vertical-align: middle;\n",
       "    }\n",
       "\n",
       "    .dataframe tbody tr th {\n",
       "        vertical-align: top;\n",
       "    }\n",
       "\n",
       "    .dataframe thead th {\n",
       "        text-align: right;\n",
       "    }\n",
       "</style>\n",
       "<table border=\"1\" class=\"dataframe\">\n",
       "  <thead>\n",
       "    <tr style=\"text-align: right;\">\n",
       "      <th></th>\n",
       "      <th>nome</th>\n",
       "      <th>età</th>\n",
       "      <th>punteggio</th>\n",
       "      <th>email</th>\n",
       "    </tr>\n",
       "  </thead>\n",
       "  <tbody>\n",
       "    <tr>\n",
       "      <th>0</th>\n",
       "      <td>Alice</td>\n",
       "      <td>25</td>\n",
       "      <td>90.0</td>\n",
       "      <td>alice@email.com</td>\n",
       "    </tr>\n",
       "    <tr>\n",
       "      <th>2</th>\n",
       "      <td>Charlie</td>\n",
       "      <td>28</td>\n",
       "      <td>75.0</td>\n",
       "      <td>charlie@email.com</td>\n",
       "    </tr>\n",
       "  </tbody>\n",
       "</table>\n",
       "</div>"
      ],
      "text/plain": [
       "      nome  età  punteggio              email\n",
       "0    Alice   25       90.0    alice@email.com\n",
       "2  Charlie   28       75.0  charlie@email.com"
      ]
     },
     "execution_count": 20,
     "metadata": {},
     "output_type": "execute_result"
    }
   ],
   "source": [
    "df1=df.dropna(inplace=False)\n",
    "df1"
   ]
  },
  {
   "cell_type": "markdown",
   "id": "d06bdf98",
   "metadata": {},
   "source": [
    "## Rimozione Permanente delle Righe con Dati Mancanti dal DataFrame"
   ]
  },
  {
   "cell_type": "markdown",
   "id": "65e414b7",
   "metadata": {},
   "source": [
    "Questo codice utilizza il metodo `dropna` del DataFrame con il parametro `inplace=True`. Ciò significa che rimuove direttamente le righe contenenti dati mancanti dal DataFrame originale `df`, senza restituire un nuovo DataFrame. L'effetto è che `df` stesso viene modificato e ora contiene solo le righe senza dati mancanti."
   ]
  },
  {
   "cell_type": "code",
   "execution_count": 21,
   "id": "9683de0b",
   "metadata": {
    "scrolled": true
   },
   "outputs": [
    {
     "data": {
      "text/html": [
       "<div>\n",
       "<style scoped>\n",
       "    .dataframe tbody tr th:only-of-type {\n",
       "        vertical-align: middle;\n",
       "    }\n",
       "\n",
       "    .dataframe tbody tr th {\n",
       "        vertical-align: top;\n",
       "    }\n",
       "\n",
       "    .dataframe thead th {\n",
       "        text-align: right;\n",
       "    }\n",
       "</style>\n",
       "<table border=\"1\" class=\"dataframe\">\n",
       "  <thead>\n",
       "    <tr style=\"text-align: right;\">\n",
       "      <th></th>\n",
       "      <th>nome</th>\n",
       "      <th>età</th>\n",
       "      <th>punteggio</th>\n",
       "      <th>email</th>\n",
       "    </tr>\n",
       "  </thead>\n",
       "  <tbody>\n",
       "    <tr>\n",
       "      <th>0</th>\n",
       "      <td>Alice</td>\n",
       "      <td>25</td>\n",
       "      <td>90.0</td>\n",
       "      <td>alice@email.com</td>\n",
       "    </tr>\n",
       "    <tr>\n",
       "      <th>2</th>\n",
       "      <td>Charlie</td>\n",
       "      <td>28</td>\n",
       "      <td>75.0</td>\n",
       "      <td>charlie@email.com</td>\n",
       "    </tr>\n",
       "  </tbody>\n",
       "</table>\n",
       "</div>"
      ],
      "text/plain": [
       "      nome  età  punteggio              email\n",
       "0    Alice   25       90.0    alice@email.com\n",
       "2  Charlie   28       75.0  charlie@email.com"
      ]
     },
     "execution_count": 21,
     "metadata": {},
     "output_type": "execute_result"
    }
   ],
   "source": [
    "df.dropna(inplace=True)\n",
    "df"
   ]
  },
  {
   "cell_type": "markdown",
   "id": "29e4ec41",
   "metadata": {},
   "source": [
    "## Visualizzazione delle Mancate Osservazioni con un Heatmap"
   ]
  },
  {
   "cell_type": "markdown",
   "id": "651f782b",
   "metadata": {},
   "source": [
    "Questo codice utilizza la libreria `seaborn` per generare un heatmap, una rappresentazione grafica dei dati, che visualizza la presenza di valori mancanti nel DataFrame `df`. La heatmap colora le celle in base alla presenza di dati mancanti: le celle vuote o con valori mancanti sono evidenziate in colore diverso rispetto a quelle contenenti dati. Questa rappresentazione fornisce una visione immediata della distribuzione dei dati mancanti nel DataFrame."
   ]
  },
  {
   "cell_type": "code",
   "execution_count": 2,
   "id": "dbad7492",
   "metadata": {
    "scrolled": false
   },
   "outputs": [
    {
     "data": {
      "image/png": "[encoded data removed]",
      "text/plain": [
       "<Figure size 800x600 with 1 Axes>"
      ]
     },
     "metadata": {},
     "output_type": "display_data"
    }
   ],
   "source": [
    "import pandas as pd\n",
    "import seaborn as sns\n",
    "import numpy as np\n",
    "import matplotlib.pyplot as plt\n",
    "\n",
    "# Genera dati di esempio\n",
    "data = {\n",
    "    'Variable1': [1, 2, 3, 4, 5],\n",
    "    'Variable2': [1, 2, np.nan, 4, np.nan],\n",
    "    'Missing_Column': ['A', 'B', 'A', 'C', np.nan]\n",
    "}\n",
    "\n",
    "# Crea un DataFrame\n",
    "df = pd.DataFrame(data)\n",
    "\n",
    "# Visualizza un heatmap delle mancate osservazioni\n",
    "plt.figure(figsize=(8, 6))\n",
    "sns.heatmap(df.isnull(), cmap='viridis', cbar=False, yticklabels=False)\n",
    "plt.title('Missing Values Heatmap')\n",
    "plt.show()"
   ]
  },
  {
   "cell_type": "markdown",
   "id": "afdc186e",
   "metadata": {},
   "source": [
    "## Creazione di un Nuovo DataFrame con Riempiimento di Valori Mancanti nelle Colonne Categoriche"
   ]
  },
  {
   "cell_type": "markdown",
   "id": "13678a90",
   "metadata": {},
   "source": [
    "Questo codice crea un nuovo DataFrame vuoto chiamato `df1`. Successivamente, vengono selezionate le colonne di tipo categorico dal DataFrame originale `df`. I valori mancanti nelle colonne categoriche vengono quindi riempiti con un valore specificato, che dovrebbe essere sostituito con il valore effettivo desiderato per il riempimento dei dati mancanti. Infine, le colonne riempite vengono assegnate al nuovo DataFrame `df1`."
   ]
  },
  {
   "cell_type": "code",
   "execution_count": 7,
   "id": "869b04fa",
   "metadata": {},
   "outputs": [],
   "source": [
    "# Crea un DataFrame vuoto\n",
    "df1 = pd.DataFrame()\n",
    "\n",
    "# Seleziona colonne di tipo categorico\n",
    "colonne_categoriche = df.select_dtypes(exclude=['number'])\n",
    "\n",
    "# Riempi i valori mancanti nelle colonne categoriche e assegna a df1\n",
    "# Sostituisci 'tuo_valore_di_riempimento' con il valore effettivo che desideri utilizzare per riempire i valori mancanti\n",
    "df1[colonne_categoriche.columns] = df[colonne_categoriche.columns].fillna(value='tuo_valore_di_riempimento')"
   ]
  },
  {
   "cell_type": "markdown",
   "id": "c45d0ce7",
   "metadata": {},
   "source": [
    "## Creazione di un DataFrame con Dati Numerici e Valori Mancanti Utilizzando Pandas"
   ]
  },
  {
   "cell_type": "markdown",
   "id": "3e122b92",
   "metadata": {},
   "source": [
    "Il codice utilizza la libreria pandas per creare un DataFrame chiamato `df` con tre colonne ('Feature1', 'Feature2', 'Feature3'), contenenti dati numerici. Alcuni valori sono rappresentati come `np.nan`, indicando dati mancanti. Questi valori possono essere gestiti tramite tecniche come l'imputazione o la rimozione delle righe o colonne con dati mancanti, in base alle esigenze analitiche del progetto."
   ]
  },
  {
   "cell_type": "code",
   "execution_count": 2,
   "id": "4c28a1a8",
   "metadata": {
    "scrolled": true
   },
   "outputs": [
    {
     "data": {
      "text/html": [
       "<div>\n",
       "<style scoped>\n",
       "    .dataframe tbody tr th:only-of-type {\n",
       "        vertical-align: middle;\n",
       "    }\n",
       "\n",
       "    .dataframe tbody tr th {\n",
       "        vertical-align: top;\n",
       "    }\n",
       "\n",
       "    .dataframe thead th {\n",
       "        text-align: right;\n",
       "    }\n",
       "</style>\n",
       "<table border=\"1\" class=\"dataframe\">\n",
       "  <thead>\n",
       "    <tr style=\"text-align: right;\">\n",
       "      <th></th>\n",
       "      <th>Feature1</th>\n",
       "      <th>Feature2</th>\n",
       "      <th>Feature3</th>\n",
       "    </tr>\n",
       "  </thead>\n",
       "  <tbody>\n",
       "    <tr>\n",
       "      <th>0</th>\n",
       "      <td>1.0</td>\n",
       "      <td>NaN</td>\n",
       "      <td>1.0</td>\n",
       "    </tr>\n",
       "    <tr>\n",
       "      <th>1</th>\n",
       "      <td>2.0</td>\n",
       "      <td>2.0</td>\n",
       "      <td>NaN</td>\n",
       "    </tr>\n",
       "    <tr>\n",
       "      <th>2</th>\n",
       "      <td>NaN</td>\n",
       "      <td>3.0</td>\n",
       "      <td>3.0</td>\n",
       "    </tr>\n",
       "    <tr>\n",
       "      <th>3</th>\n",
       "      <td>4.0</td>\n",
       "      <td>4.0</td>\n",
       "      <td>4.0</td>\n",
       "    </tr>\n",
       "    <tr>\n",
       "      <th>4</th>\n",
       "      <td>5.0</td>\n",
       "      <td>NaN</td>\n",
       "      <td>5.0</td>\n",
       "    </tr>\n",
       "  </tbody>\n",
       "</table>\n",
       "</div>"
      ],
      "text/plain": [
       "   Feature1  Feature2  Feature3\n",
       "0       1.0       NaN       1.0\n",
       "1       2.0       2.0       NaN\n",
       "2       NaN       3.0       3.0\n",
       "3       4.0       4.0       4.0\n",
       "4       5.0       NaN       5.0"
      ]
     },
     "execution_count": 2,
     "metadata": {},
     "output_type": "execute_result"
    }
   ],
   "source": [
    "import pandas as pd\n",
    "import matplotlib.pyplot as plt\n",
    "import numpy as np\n",
    "\n",
    "# Genera dati di esempio\n",
    "data = {\n",
    "    'Feature1': [1, 2, np.nan, 4, 5],\n",
    "    'Feature2': [np.nan, 2, 3, 4, np.nan],\n",
    "    'Feature3': [1, np.nan, 3, 4, 5]\n",
    "}\n",
    "# Crea un DataFrame\n",
    "df = pd.DataFrame(data)\n",
    "df"
   ]
  },
  {
   "cell_type": "markdown",
   "id": "12da0caf",
   "metadata": {},
   "source": [
    "## Verifica della Presenza di Valori Mancanti nel DataFrame utilizzando df.isnull()"
   ]
  },
  {
   "cell_type": "markdown",
   "id": "088ed485",
   "metadata": {},
   "source": [
    "Il codice `df.isnull()` restituisce un DataFrame di valori booleani con la stessa forma di `df`, dove ogni elemento è True se il corrispondente elemento in `df` è un valore mancante (`NaN`), e False altrimenti. Questo è utile per identificare la presenza di dati mancanti nel DataFrame originale."
   ]
  },
  {
   "cell_type": "code",
   "execution_count": 3,
   "id": "3010d1ed",
   "metadata": {
    "scrolled": true
   },
   "outputs": [
    {
     "data": {
      "text/html": [
       "<div>\n",
       "<style scoped>\n",
       "    .dataframe tbody tr th:only-of-type {\n",
       "        vertical-align: middle;\n",
       "    }\n",
       "\n",
       "    .dataframe tbody tr th {\n",
       "        vertical-align: top;\n",
       "    }\n",
       "\n",
       "    .dataframe thead th {\n",
       "        text-align: right;\n",
       "    }\n",
       "</style>\n",
       "<table border=\"1\" class=\"dataframe\">\n",
       "  <thead>\n",
       "    <tr style=\"text-align: right;\">\n",
       "      <th></th>\n",
       "      <th>Feature1</th>\n",
       "      <th>Feature2</th>\n",
       "      <th>Feature3</th>\n",
       "    </tr>\n",
       "  </thead>\n",
       "  <tbody>\n",
       "    <tr>\n",
       "      <th>0</th>\n",
       "      <td>False</td>\n",
       "      <td>True</td>\n",
       "      <td>False</td>\n",
       "    </tr>\n",
       "    <tr>\n",
       "      <th>1</th>\n",
       "      <td>False</td>\n",
       "      <td>False</td>\n",
       "      <td>True</td>\n",
       "    </tr>\n",
       "    <tr>\n",
       "      <th>2</th>\n",
       "      <td>True</td>\n",
       "      <td>False</td>\n",
       "      <td>False</td>\n",
       "    </tr>\n",
       "    <tr>\n",
       "      <th>3</th>\n",
       "      <td>False</td>\n",
       "      <td>False</td>\n",
       "      <td>False</td>\n",
       "    </tr>\n",
       "    <tr>\n",
       "      <th>4</th>\n",
       "      <td>False</td>\n",
       "      <td>True</td>\n",
       "      <td>False</td>\n",
       "    </tr>\n",
       "  </tbody>\n",
       "</table>\n",
       "</div>"
      ],
      "text/plain": [
       "   Feature1  Feature2  Feature3\n",
       "0     False      True     False\n",
       "1     False     False      True\n",
       "2      True     False     False\n",
       "3     False     False     False\n",
       "4     False      True     False"
      ]
     },
     "execution_count": 3,
     "metadata": {},
     "output_type": "execute_result"
    }
   ],
   "source": [
    "df.isnull()"
   ]
  },
  {
   "cell_type": "markdown",
   "id": "d101dccc",
   "metadata": {},
   "source": [
    "## Calcolo del Numero di Valori Mancanti per Colonna e Lunghezza Totale del DataFrame"
   ]
  },
  {
   "cell_type": "markdown",
   "id": "83f022ec",
   "metadata": {},
   "source": [
    "Il codice `df.isnull().sum()` restituisce una Serie che mostra il numero totale di valori mancanti per ciascuna colonna nel DataFrame `df`. Nel frattempo, `len(df)` restituisce la lunghezza totale del DataFrame, ovvero il numero totale di righe. La combinazione di questi due comandi fornisce la percentuale di valori mancanti per ciascuna colonna nel DataFrame, poiché il numero totale di valori mancanti diviso per il numero totale di righe dà una percentuale."
   ]
  },
  {
   "cell_type": "code",
   "execution_count": 30,
   "id": "0ce59533",
   "metadata": {},
   "outputs": [
    {
     "data": {
      "text/plain": [
       "5"
      ]
     },
     "execution_count": 30,
     "metadata": {},
     "output_type": "execute_result"
    }
   ],
   "source": [
    "df.isnull().sum()\n",
    "len(df)"
   ]
  },
  {
   "cell_type": "markdown",
   "id": "f3e40dd6",
   "metadata": {},
   "source": [
    "## Calcolo della Percentuale di Valori Mancanti per Colonna nel DataFrame"
   ]
  },
  {
   "cell_type": "markdown",
   "id": "e7aa0bc5",
   "metadata": {},
   "source": [
    "Questo codice calcola la percentuale di valori mancanti per ciascuna colonna nel DataFrame `df`. `df.isnull().sum()` restituisce il numero totale di valori mancanti per ogni colonna, e dividendo questo valore per la lunghezza totale del DataFrame (`len(df)`) e moltiplicando per 100, ottieni la percentuale di valori mancanti per ogni colonna. Il risultato è memorizzato nella variabile `missing_percent`."
   ]
  },
  {
   "cell_type": "code",
   "execution_count": 5,
   "id": "95250a25",
   "metadata": {},
   "outputs": [
    {
     "data": {
      "text/plain": [
       "Feature1    20.0\n",
       "Feature2    40.0\n",
       "Feature3    20.0\n",
       "dtype: float64"
      ]
     },
     "execution_count": 5,
     "metadata": {},
     "output_type": "execute_result"
    }
   ],
   "source": [
    "missing_percent = (df.isnull().sum() / len(df) * 100)\n",
    "missing_percent"
   ]
  },
  {
   "cell_type": "markdown",
   "id": "7099ee3f",
   "metadata": {},
   "source": [
    "## Funzione per la Gestione dei Valori Mancanti in un DataFrame utilizzando Pandas"
   ]
  },
  {
   "cell_type": "markdown",
   "id": "64dd7011",
   "metadata": {},
   "source": [
    "Il codice definisce una funzione `missingvalues_sub` che gestisce i valori mancanti in un DataFrame, sostituendo la media per le colonne numeriche e la moda per le colonne categoriche. La funzione principale `main` utilizza questa funzione su un DataFrame di esempio, stampando il DataFrame originale e quello con i valori mancanti sostituiti. L'esecuzione del codice avviene solo se il modulo viene eseguito direttamente come script principale."
   ]
  },
  {
   "cell_type": "code",
   "execution_count": 1,
   "id": "be1ab233",
   "metadata": {},
   "outputs": [
    {
     "name": "stdout",
     "output_type": "stream",
     "text": [
      "il primo con i valori mancanti \n",
      "   Variable1  Variable2 Missing_Column\n",
      "0          1        1.0              A\n",
      "1          2        2.0              B\n",
      "2          3        NaN              A\n",
      "3          4        4.0              C\n",
      "4          5        NaN            NaN \n",
      "e il secondo con i missing values sostituiti \n",
      "   Variable1  Variable2 Missing_Column\n",
      "0          1   1.000000              A\n",
      "1          2   2.000000              B\n",
      "2          3   2.333333              A\n",
      "3          4   4.000000              C\n",
      "4          5   2.333333              A\n"
     ]
    }
   ],
   "source": [
    "#creo una funzione che si occupa solo dei missing values \n",
    "import pandas as pd\n",
    "import seaborn as sns\n",
    "import numpy as np\n",
    "import matplotlib.pyplot as plt\n",
    "\n",
    "# Genera dati di esempio\n",
    "data = {\n",
    "    'Variable1': [1, 2, 3, 4, 5],\n",
    "    'Variable2': [1, 2, np.nan, 4, np.nan],\n",
    "    'Missing_Column': ['A', 'B', 'A', 'C', np.nan]\n",
    "}\n",
    "\n",
    "# Crea un DataFrame\n",
    "df = pd.DataFrame(data)\n",
    "df1=pd.DataFrame()\n",
    "\n",
    "\n",
    "def missingvalues_sub(df):\n",
    "    # Trattamento dei missing values nelle variabili numeriche e categoriche\n",
    "    numeric_cols = df.select_dtypes(include=['number'])\n",
    "    categorical_cols = df.select_dtypes(exclude=['number'])\n",
    "    df1[numeric_cols.columns] = df[numeric_cols.columns].fillna(df[numeric_cols.columns].mean()) #mean()=   \n",
    "    df1[categorical_cols.columns] = df[categorical_cols.columns].fillna(df[categorical_cols.columns].mode().iloc[0]) # fillan fil=riempi lan=nan not a mumber/ mode()= sta per moda colonna categoriche  /iloc= per gestice i indici \n",
    "    return df1\n",
    "\n",
    "\n",
    "def main (): # mean im questo caso funzione principale \n",
    "    df1=missingvalues_sub(df)\n",
    "    print(f\"il primo con i valori mancanti \\n{df} \\ne il secondo con i missing values sostituiti \\n{df1}\")\n",
    "\n",
    "\n",
    "if __name__ == \"__main__\":\n",
    "    main()"
   ]
  },
  {
   "cell_type": "markdown",
   "id": "11e7d199",
   "metadata": {},
   "source": [
    "## Identificazione dei Valori Mancanti in un DataFrame utilizzando la Funzione check_missing_values"
   ]
  },
  {
   "cell_type": "markdown",
   "id": "fc2a41b1",
   "metadata": {},
   "source": [
    "Il codice `df.isnull()` viene utilizzato per verificare la presenza di valori mancanti nel DataFrame `df`. Il risultato di questa operazione è un DataFrame di dimensioni identiche a `df`, in cui ogni elemento è `True` se il valore corrispondente in `df` è un valore mancante (`NaN`), e `False` altrimenti. Questo è utile per identificare rapidamente la posizione dei valori mancanti nel DataFrame, facilitando eventuali operazioni di gestione dei dati mancanti. Inoltre, questa informazione può essere utilizzata successivamente per prendere decisioni o applicare strategie specifiche per trattare i dati mancanti nel contesto dell'analisi dei dati."
   ]
  },
  {
   "cell_type": "code",
   "execution_count": 2,
   "id": "7be10d23",
   "metadata": {
    "scrolled": true
   },
   "outputs": [
    {
     "data": {
      "text/html": [
       "<div>\n",
       "<style scoped>\n",
       "    .dataframe tbody tr th:only-of-type {\n",
       "        vertical-align: middle;\n",
       "    }\n",
       "\n",
       "    .dataframe tbody tr th {\n",
       "        vertical-align: top;\n",
       "    }\n",
       "\n",
       "    .dataframe thead th {\n",
       "        text-align: right;\n",
       "    }\n",
       "</style>\n",
       "<table border=\"1\" class=\"dataframe\">\n",
       "  <thead>\n",
       "    <tr style=\"text-align: right;\">\n",
       "      <th></th>\n",
       "      <th>Variable1</th>\n",
       "      <th>Variable2</th>\n",
       "      <th>Missing_Column</th>\n",
       "    </tr>\n",
       "  </thead>\n",
       "  <tbody>\n",
       "    <tr>\n",
       "      <th>0</th>\n",
       "      <td>False</td>\n",
       "      <td>False</td>\n",
       "      <td>False</td>\n",
       "    </tr>\n",
       "    <tr>\n",
       "      <th>1</th>\n",
       "      <td>False</td>\n",
       "      <td>False</td>\n",
       "      <td>False</td>\n",
       "    </tr>\n",
       "    <tr>\n",
       "      <th>2</th>\n",
       "      <td>False</td>\n",
       "      <td>True</td>\n",
       "      <td>False</td>\n",
       "    </tr>\n",
       "    <tr>\n",
       "      <th>3</th>\n",
       "      <td>False</td>\n",
       "      <td>False</td>\n",
       "      <td>False</td>\n",
       "    </tr>\n",
       "    <tr>\n",
       "      <th>4</th>\n",
       "      <td>False</td>\n",
       "      <td>True</td>\n",
       "      <td>True</td>\n",
       "    </tr>\n",
       "  </tbody>\n",
       "</table>\n",
       "</div>"
      ],
      "text/plain": [
       "   Variable1  Variable2  Missing_Column\n",
       "0      False      False           False\n",
       "1      False      False           False\n",
       "2      False       True           False\n",
       "3      False      False           False\n",
       "4      False       True            True"
      ]
     },
     "execution_count": 2,
     "metadata": {},
     "output_type": "execute_result"
    }
   ],
   "source": [
    "df.isnull() # una funzione che prende il df e dove non ce nulla mette true quindi da il true dove mancano i valori"
   ]
  },
  {
   "cell_type": "markdown",
   "id": "9d55cef4",
   "metadata": {},
   "source": [
    "## Creazione di una Matrice di Valori Mancanti nel DataFrame utilizzando Pandas"
   ]
  },
  {
   "cell_type": "markdown",
   "id": "eb8ce3f0",
   "metadata": {},
   "source": [
    "Il codice utilizza la libreria `pandas` per creare un DataFrame `df` con dati di esempio, compresi alcuni valori mancanti rappresentati come `NaN` (Not a Number). Successivamente, viene eseguita l'operazione `df.isnull()`, che restituisce una tabella booleana chiamata `missing_matrix`. Questa tabella ha le stesse dimensioni di `df`, e ogni elemento è `True` se il valore corrispondente in `df` è mancante (`NaN`), altrimenti è `False`. La `missing_matrix` fornisce una visione chiara della presenza di dati mancanti nel DataFrame, rendendo più facile identificare le colonne o le righe che ne contengono. Questa informazione è utile per valutare l'impatto dei dati mancanti e decidere eventuali strategie di gestione."
   ]
  },
  {
   "cell_type": "code",
   "execution_count": 10,
   "id": "c0fbde57",
   "metadata": {
    "scrolled": true
   },
   "outputs": [
    {
     "data": {
      "text/html": [
       "<div>\n",
       "<style scoped>\n",
       "    .dataframe tbody tr th:only-of-type {\n",
       "        vertical-align: middle;\n",
       "    }\n",
       "\n",
       "    .dataframe tbody tr th {\n",
       "        vertical-align: top;\n",
       "    }\n",
       "\n",
       "    .dataframe thead th {\n",
       "        text-align: right;\n",
       "    }\n",
       "</style>\n",
       "<table border=\"1\" class=\"dataframe\">\n",
       "  <thead>\n",
       "    <tr style=\"text-align: right;\">\n",
       "      <th></th>\n",
       "      <th>Feature1</th>\n",
       "      <th>Feature2</th>\n",
       "      <th>Feature3</th>\n",
       "    </tr>\n",
       "  </thead>\n",
       "  <tbody>\n",
       "    <tr>\n",
       "      <th>0</th>\n",
       "      <td>False</td>\n",
       "      <td>True</td>\n",
       "      <td>False</td>\n",
       "    </tr>\n",
       "    <tr>\n",
       "      <th>1</th>\n",
       "      <td>False</td>\n",
       "      <td>False</td>\n",
       "      <td>True</td>\n",
       "    </tr>\n",
       "    <tr>\n",
       "      <th>2</th>\n",
       "      <td>True</td>\n",
       "      <td>False</td>\n",
       "      <td>False</td>\n",
       "    </tr>\n",
       "    <tr>\n",
       "      <th>3</th>\n",
       "      <td>False</td>\n",
       "      <td>False</td>\n",
       "      <td>False</td>\n",
       "    </tr>\n",
       "    <tr>\n",
       "      <th>4</th>\n",
       "      <td>False</td>\n",
       "      <td>True</td>\n",
       "      <td>False</td>\n",
       "    </tr>\n",
       "  </tbody>\n",
       "</table>\n",
       "</div>"
      ],
      "text/plain": [
       "   Feature1  Feature2  Feature3\n",
       "0     False      True     False\n",
       "1     False     False      True\n",
       "2      True     False     False\n",
       "3     False     False     False\n",
       "4     False      True     False"
      ]
     },
     "execution_count": 10,
     "metadata": {},
     "output_type": "execute_result"
    }
   ],
   "source": [
    "import pandas as pd\n",
    "import seaborn as sns\n",
    "import matplotlib.pyplot as plt\n",
    "import numpy as np\n",
    "\n",
    "# Genera dati di esempio\n",
    "data = {\n",
    "    'Feature1': [1, 2, np.nan, 4, 5],# feature1 manda 1 dato\n",
    "    'Feature2': [np.nan, 2, 3, 4, np.nan],\n",
    "    'Feature3': [1, np.nan, 3, 4, 5]\n",
    "}\n",
    "\n",
    "# Crea un DataFrame\n",
    "df = pd.DataFrame(data)\n",
    "\n",
    "missing_matrix = df.isnull()\n",
    "\n",
    "missing_matrix # tabella dei dati mandanti"
   ]
  },
  {
   "cell_type": "markdown",
   "id": "6c9f1a5e",
   "metadata": {},
   "source": [
    "## Generazione di Dati Casuali per l'Esplorazione con Pandas e NumPy"
   ]
  },
  {
   "cell_type": "markdown",
   "id": "64cfe74e",
   "metadata": {},
   "source": [
    "Il codice utilizza le librerie `pandas`, `numpy`, `matplotlib.pyplot`, `seaborn`, e `plotly.express` per creare un DataFrame chiamato `df` contenente dati casuali per l'esplorazione. Il DataFrame include colonne come 'Età', 'Genere', 'Punteggio', e 'Reddito', con valori generati casualmente attraverso diverse funzioni di generazione di numeri casuali. Successivamente, le prime 50 righe del DataFrame vengono stampate per visualizzare una parte iniziale dei dati. Questo tipo di dataset casuale può essere utilizzato per scopi di analisi esplorativa e test di visualizzazione dei dati."
   ]
  },
  {
   "cell_type": "code",
   "execution_count": 5,
   "id": "0f17aa84",
   "metadata": {},
   "outputs": [
    {
     "name": "stdout",
     "output_type": "stream",
     "text": [
      "    Età   Genere  Punteggio       Reddito\n",
      "0    56  Maschio  85.120691  52915.764524\n",
      "1    69  Maschio  49.514653  44702.505608\n",
      "2    46  Maschio  48.058658  55077.257652\n",
      "3    32  Femmina  59.240778  45568.978848\n",
      "4    60  Maschio  82.468097  52526.914644\n",
      "5    25  Maschio  34.780921  69763.963034\n",
      "6    38  Maschio  67.801615  34901.861521\n",
      "7    56  Femmina  56.573196  67098.178417\n",
      "8    36  Femmina  26.702827  69756.726010\n",
      "9    40  Maschio  87.862999  48228.972095\n",
      "10   28  Maschio  79.742602  18172.176515\n",
      "11   28  Maschio  65.845183  40882.670194\n",
      "12   41  Maschio  85.058173  69454.918198\n",
      "13   53  Femmina  86.729420  49656.979066\n",
      "14   57  Femmina  70.836298  35010.466516\n",
      "15   41  Femmina  83.701333  42428.376182\n",
      "16   20  Femmina  69.747146  62609.300398\n",
      "17   39  Maschio  68.014077  58201.003523\n",
      "18   19  Maschio  61.861138  46416.018512\n",
      "19   41  Maschio  75.271664  44497.633823\n",
      "20   61  Femmina  15.860511  44123.627764\n",
      "21   47  Maschio  88.087076  36163.847233\n",
      "22   55  Femmina  87.184353  74230.635342\n",
      "23   19  Femmina   2.924728  45165.192962\n",
      "24   38  Maschio  82.581675  68257.377812\n",
      "25   50  Maschio  12.886987  72819.740779\n",
      "26   29  Maschio  33.511885  64974.663472\n",
      "27   39  Femmina  74.350826  43525.695309\n",
      "28   61  Maschio  16.075990  56055.951355\n",
      "29   42  Femmina  81.796702  49637.065904\n",
      "30   66  Maschio  83.213418  36444.472089\n",
      "31   44  Femmina  50.746773  54865.389226\n",
      "32   59  Femmina   0.638587  32314.403133\n",
      "33   45  Maschio  28.703813  67815.190827\n",
      "34   33  Femmina  61.692692  43030.740541\n",
      "35   32  Femmina  98.118618  53017.394838\n",
      "36   64  Maschio  63.181353  54249.318073\n",
      "37   68  Femmina  25.980358  46116.425394\n",
      "38   61  Maschio  63.400570  58800.407022\n",
      "39   69  Femmina  53.998538  42876.445151\n",
      "40   20  Maschio  77.984540  63069.459462\n",
      "41   54  Maschio  10.698064  29810.304796\n",
      "42   68  Femmina  76.102790  51895.693693\n",
      "43   24  Femmina  54.126658  79083.934986\n",
      "44   38  Femmina  96.299200  34995.030131\n",
      "45   26  Femmina  34.187217  39833.825442\n",
      "46   56  Femmina  63.262189  57708.617745\n",
      "47   35  Maschio  93.202811  52693.726729\n",
      "48   21  Femmina  10.250973  55259.451489\n",
      "49   42  Maschio  93.722849  57337.806952\n"
     ]
    }
   ],
   "source": [
    "import pandas as pd\n",
    "import numpy as np\n",
    "import matplotlib.pyplot as plt\n",
    "import seaborn as sns\n",
    "import plotly.express as px\n",
    "\n",
    "# Genera dati casuali per l'esplorazione\n",
    "np.random.seed(42)\n",
    "data = {\n",
    "    'Età': np.random.randint(18, 70, size=1000),#randint= numeri interi / size secera mille volte\n",
    "    'Genere': np.random.choice(['Maschio', 'Femmina'], size=1000),\n",
    "    'Punteggio': np.random.uniform(0, 100, size=1000),# uniform= seglio un numero casuale tra 0 e 100 per mille volte(size) dove ogli numero ha la probalita di uscire  \n",
    "    'Reddito': np.random.normal(50000, 15000, size=1000)#genere 100 numeri casuale presi da una distribuzzione normale tra 5000 e 15000\n",
    "}\n",
    "# Genera dati casuali per l'esplorazione\n",
    "df = pd.DataFrame(data)\n",
    "#visualizza le prime rige del dataset \n",
    "print(df.head(50))# tail se vuoi i ultimi numeri "
   ]
  },
  {
   "cell_type": "markdown",
   "id": "c9dcf98c",
   "metadata": {},
   "source": [
    "## Analisi delle Informazioni del DataFrame e Statistiche Descrittive"
   ]
  },
  {
   "cell_type": "markdown",
   "id": "e471b90c",
   "metadata": {},
   "source": [
    "Il codice utilizza due metodi di `pandas` per ottenere informazioni sul DataFrame `df`. La prima riga, `print(df.info())`, restituisce informazioni dettagliate su ciascuna colonna del DataFrame, compresi i tipi di dati e il numero di valori non nulli. La seconda riga, `print(df.describe())`, fornisce statistiche riassuntive come la media, la deviazione standard, i valori minimi, i quartili e i valori massimi per le colonne numeriche del DataFrame. Questi due metodi sono utili per ottenere una panoramica rapida e completa delle caratteristiche del dataset."
   ]
  },
  {
   "cell_type": "code",
   "execution_count": 6,
   "id": "5fac0d3e",
   "metadata": {},
   "outputs": [
    {
     "name": "stdout",
     "output_type": "stream",
     "text": [
      "<class 'pandas.core.frame.DataFrame'>\n",
      "RangeIndex: 1000 entries, 0 to 999\n",
      "Data columns (total 4 columns):\n",
      " #   Column     Non-Null Count  Dtype  \n",
      "---  ------     --------------  -----  \n",
      " 0   Età        1000 non-null   int64  \n",
      " 1   Genere     1000 non-null   object \n",
      " 2   Punteggio  1000 non-null   float64\n",
      " 3   Reddito    1000 non-null   float64\n",
      "dtypes: float64(2), int64(1), object(1)\n",
      "memory usage: 31.4+ KB\n",
      "None\n",
      "              Età    Punteggio       Reddito\n",
      "count  1000.00000  1000.000000   1000.000000\n",
      "mean     43.81900    50.471078  50241.607607\n",
      "std      14.99103    29.014970  14573.000585\n",
      "min      18.00000     0.321826   4707.317663\n",
      "25%      31.00000    24.690382  40538.177863\n",
      "50%      44.00000    51.789520  50099.165858\n",
      "75%      56.00000    75.549365  60089.683773\n",
      "max      69.00000    99.941373  97066.228005\n"
     ]
    }
   ],
   "source": [
    "print(df.info())# da informazione su tutte le ficules del df\n",
    "print(df.describe()) # con una parola li fai fare tutto mediana min max..."
   ]
  },
  {
   "cell_type": "markdown",
   "id": "2638c0cd",
   "metadata": {},
   "source": [
    "## Identificazione e Conteggio dei Valori Mancanti in Ciascuna Colonna del DataFrame"
   ]
  },
  {
   "cell_type": "markdown",
   "id": "dc1844ea",
   "metadata": {},
   "source": [
    "Il codice utilizza il metodo `isnull()` di pandas per identificare i valori mancanti nel DataFrame `df` e successivamente applica `sum()` per ottenere il numero totale di valori mancanti per ciascuna colonna. La variabile `missing_data` contiene quindi il conteggio dei valori mancanti per ogni colonna, e l'output del codice stampa questa informazione, fornendo il numero di valori mancanti per ciascuna colonna nel DataFrame."
   ]
  },
  {
   "cell_type": "code",
   "execution_count": 15,
   "id": "ead762b0",
   "metadata": {},
   "outputs": [
    {
     "name": "stdout",
     "output_type": "stream",
     "text": [
      "Valori mancanti per ciascuna colonna: \n",
      "Feature1    1\n",
      "Feature2    2\n",
      "Feature3    1\n",
      "dtype: int64\n"
     ]
    }
   ],
   "source": [
    "missing_data = df.isnull().sum()\n",
    "print(\"Valori mancanti per ciascuna colonna: \")\n",
    "print(missing_data)"
   ]
  }
 ],
 "metadata": {
  "kernelspec": {
   "display_name": "Python 3 (ipykernel)",
   "language": "python",
   "name": "python3"
  },
  "language_info": {
   "codemirror_mode": {
    "name": "ipython",
    "version": 3
   },
   "file_extension": ".py",
   "mimetype": "text/x-python",
   "name": "python",
   "nbconvert_exporter": "python",
   "pygments_lexer": "ipython3",
   "version": "3.11.4"
  }
 },
 "nbformat": 4,
 "nbformat_minor": 5
}
